{
 "cells": [
  {
   "cell_type": "markdown",
   "id": "8417993a-0057-4e75-86c4-28ae21134d3b",
   "metadata": {},
   "source": [
    "# Introduction to embeddings"
   ]
  },
  {
   "cell_type": "code",
   "execution_count": 1,
   "id": "6266144c-6e28-45e1-a898-16360b233ad5",
   "metadata": {},
   "outputs": [],
   "source": [
    "from sentence_transformers import SentenceTransformer\n",
    "from sklearn.decomposition import PCA\n",
    "import matplotlib.pyplot as plt\n",
    "import torch\n",
    "import torch.nn.functional as F"
   ]
  },
  {
   "cell_type": "code",
   "execution_count": 2,
   "id": "4227c045-7ae4-481d-864f-47feb62945c8",
   "metadata": {},
   "outputs": [],
   "source": [
    "model = SentenceTransformer('sentence-transformers/all-MiniLM-L6-v2')"
   ]
  },
  {
   "cell_type": "markdown",
   "id": "b20f8a04-a5c0-400b-a928-2ad37518cc60",
   "metadata": {},
   "source": [
    "### Samples\n",
    "\n",
    "The example sentences feature two topics:\n",
    "* Late 80s pop sensations from the UK (sample 1, 2 and 6)\n",
    "* Embedding model architecture basics (sample 3 and 4)\n",
    "\n",
    "Then there is a small control group of n=1 about Jimmy Page"
   ]
  },
  {
   "cell_type": "code",
   "execution_count": 3,
   "id": "441d6f85-2d8d-4749-a16c-4d6d87fd0f6d",
   "metadata": {},
   "outputs": [],
   "source": [
    "sentences = [\n",
    "    \"Rick Astley is a British singer, songwriter, and radio personality born on February 6, 1966, in Newton-le-Willows, Lancashire, England.\",\n",
    "    \"In 1987, Astley released his debut single, Never Gonna Give You Up, which became an international hit, reaching number one in 25 countries.\",\n",
    "    \"Prolific in creating guitar riffs, Page's style involves various alternative guitar tunings and melodic solos, coupled with aggressive, distorted guitar tones.\",\n",
    "    \"The transformer is a deep learning architecture that was developed by researchers at Google and is based on the multi-head attention mechanism, which was proposed in the 2017 paper Attention Is All You Need.\",\n",
    "    \"Bidirectional encoder representations from transformers (BERT) is a language model introduced in October 2018 by researchers at Google.\",\n",
    "    \"Consisting of the vocalist Neil Tennant and the keyboardist Chris Lowe, they have sold more than 100 million records worldwide[4] and were listed as the most successful duo in UK music history in the 1999 edition of The Guinness Book of Records.\"\n",
    "]"
   ]
  },
  {
   "cell_type": "code",
   "execution_count": 4,
   "id": "cbef6356-b84b-4d88-a939-bee6ffbbbda2",
   "metadata": {},
   "outputs": [],
   "source": [
    "embeddings = model.encode(sentences)"
   ]
  },
  {
   "cell_type": "code",
   "execution_count": 5,
   "id": "476697ff-06de-4e31-a951-aeb752b6a3e9",
   "metadata": {},
   "outputs": [
    {
     "data": {
      "text/plain": [
       "(6, 384)"
      ]
     },
     "execution_count": 5,
     "metadata": {},
     "output_type": "execute_result"
    }
   ],
   "source": [
    "embeddings.shape"
   ]
  },
  {
   "cell_type": "markdown",
   "id": "59900d8b-30b7-4b9d-947b-0aa8a9c02bca",
   "metadata": {},
   "source": [
    "### Visualization\n",
    "\n",
    "To visualize the embeddings, we reduce dimensionality to 2, using PCA. This is just for very simple intuition - the approach shown here has lots of issues but hopefully suffices for the sake of the demonstration."
   ]
  },
  {
   "cell_type": "code",
   "execution_count": 6,
   "id": "6690c6ef-115b-4415-ac98-bb396b7c5a89",
   "metadata": {},
   "outputs": [
    {
     "data": {
      "text/plain": [
       "array([[-0.49089625, -0.06384989],\n",
       "       [-0.5654345 , -0.257033  ],\n",
       "       [ 0.03060951,  0.86397237],\n",
       "       [ 0.70519626, -0.19526456],\n",
       "       [ 0.66533864, -0.1834968 ],\n",
       "       [-0.34481367, -0.1643281 ]], dtype=float32)"
      ]
     },
     "execution_count": 6,
     "metadata": {},
     "output_type": "execute_result"
    }
   ],
   "source": [
    "pca = PCA(n_components=2)\n",
    "reduced_embeddings = pca.fit_transform(embeddings)\n",
    "reduced_embeddings"
   ]
  },
  {
   "cell_type": "code",
   "execution_count": 7,
   "id": "9a78318a-eeca-4602-8592-4542891b2526",
   "metadata": {},
   "outputs": [
    {
     "data": {
      "image/png": "[encoded data removed]",
      "text/plain": [
       "<Figure size 800x600 with 1 Axes>"
      ]
     },
     "metadata": {},
     "output_type": "display_data"
    }
   ],
   "source": [
    "x = reduced_embeddings[:, 0]\n",
    "y = reduced_embeddings[:, 1]\n",
    "\n",
    "# Create the scatter plot\n",
    "plt.figure(figsize=(8, 6))\n",
    "plt.scatter(x, y, color='blue', marker='o')\n",
    "\n",
    "# Set labels and title\n",
    "plt.title('Embeddings on 2D')\n",
    "\n",
    "# Adjust the plot limits for better visualization\n",
    "plt.xlim(min(x) - 0.1, max(x) + 0.1)\n",
    "plt.ylim(min(y) - 0.1, max(y) + 0.1)\n",
    "\n",
    "# Add row numbers as labels\n",
    "for i, (xi, yi) in enumerate(zip(x, y)):\n",
    "    plt.annotate(f'{i+1}', (xi, yi), xytext=(5, 5), textcoords='offset points')\n",
    "\n",
    "# Show the plot\n",
    "plt.show()"
   ]
  },
  {
   "cell_type": "markdown",
   "id": "374fbf3e-9a96-4457-ad12-85feb06ee5b4",
   "metadata": {},
   "source": [
    "### Similarities\n",
    "\n",
    "This demonstrates different ways to calculate cosine similarity between embeddings."
   ]
  },
  {
   "cell_type": "code",
   "execution_count": 8,
   "id": "a9eae341-d38a-49f7-84f4-67bd7dce3892",
   "metadata": {},
   "outputs": [
    {
     "data": {
      "text/plain": [
       "tensor([[ 1.0000,  0.4605,  0.1645, -0.0489,  0.0055,  0.2267],\n",
       "        [ 0.4605,  1.0000,  0.0787, -0.0804, -0.0384,  0.3038],\n",
       "        [ 0.1645,  0.0787,  1.0000,  0.0813,  0.0994,  0.1131],\n",
       "        [-0.0489, -0.0804,  0.0813,  1.0000,  0.4668,  0.0135],\n",
       "        [ 0.0055, -0.0384,  0.0994,  0.4668,  1.0000, -0.0055],\n",
       "        [ 0.2267,  0.3038,  0.1131,  0.0135, -0.0055,  1.0000]])"
      ]
     },
     "execution_count": 8,
     "metadata": {},
     "output_type": "execute_result"
    }
   ],
   "source": [
    "similarities = model.similarity(embeddings, embeddings)\n",
    "similarities"
   ]
  },
  {
   "cell_type": "code",
   "execution_count": 9,
   "id": "fd7c81c6-dd0f-43c0-bf79-c62e3ac01ff7",
   "metadata": {},
   "outputs": [
    {
     "data": {
      "text/plain": [
       "tensor([0.4668])"
      ]
     },
     "execution_count": 9,
     "metadata": {},
     "output_type": "execute_result"
    }
   ],
   "source": [
    "F.cosine_similarity(\n",
    "    torch.tensor(embeddings[3]).unsqueeze(0), \n",
    "    torch.tensor(embeddings[4]).unsqueeze(0)\n",
    ")"
   ]
  },
  {
   "cell_type": "code",
   "execution_count": 10,
   "id": "ae72d916-2cd1-450c-95bb-a81d3f014cf4",
   "metadata": {},
   "outputs": [
    {
     "data": {
      "text/plain": [
       "tensor(0.4605)"
      ]
     },
     "execution_count": 10,
     "metadata": {},
     "output_type": "execute_result"
    }
   ],
   "source": [
    "vector1 = torch.tensor(embeddings[0]).flatten()\n",
    "vector2 = torch.tensor(embeddings[1]).flatten()\n",
    "# Compute dot product\n",
    "dot_product = torch.dot(vector1, vector2)\n",
    "\n",
    "# Compute magnitudes\n",
    "magnitude1 = torch.sqrt(torch.sum(vector1**2))\n",
    "magnitude2 = torch.sqrt(torch.sum(vector2**2))\n",
    "\n",
    "# Compute cosine similarity\n",
    "similarity = dot_product / (magnitude1 * magnitude2)\n",
    "similarity"
   ]
  },
  {
   "cell_type": "markdown",
   "id": "b3d10a13-8fa8-4708-8b09-3ca4ece824db",
   "metadata": {},
   "source": [
    "### Query comparison and ranking\n",
    "\n",
    "A very straight forward and simplified semantic search"
   ]
  },
  {
   "cell_type": "code",
   "execution_count": 11,
   "id": "d4345b42-28a1-46cc-9ddd-e73e4bd9b480",
   "metadata": {},
   "outputs": [],
   "source": [
    "query = \"who is rick astley?\"\n",
    "\n",
    "query_embedding = model.encode(query)\n",
    "query_similarities = model.similarity(query_embedding, embeddings)"
   ]
  },
  {
   "cell_type": "code",
   "execution_count": 12,
   "id": "adc2acd1-12b1-417a-9c96-102da070b687",
   "metadata": {},
   "outputs": [
    {
     "data": {
      "text/plain": [
       "[(0.8214718699455261,\n",
       "  'Rick Astley is a British singer, songwriter, and radio personality born on February 6, 1966, in Newton-le-Willows, Lancashire, England.'),\n",
       " (0.38662296533584595,\n",
       "  'In 1987, Astley released his debut single, Never Gonna Give You Up, which became an international hit, reaching number one in 25 countries.'),\n",
       " (0.22919677197933197,\n",
       "  \"Prolific in creating guitar riffs, Page's style involves various alternative guitar tunings and melodic solos, coupled with aggressive, distorted guitar tones.\"),\n",
       " (0.20177322626113892,\n",
       "  'Consisting of the vocalist Neil Tennant and the keyboardist Chris Lowe, they have sold more than 100 million records worldwide[4] and were listed as the most successful duo in UK music history in the 1999 edition of The Guinness Book of Records.'),\n",
       " (0.0815008133649826,\n",
       "  'Bidirectional encoder representations from transformers (BERT) is a language model introduced in October 2018 by researchers at Google.'),\n",
       " (0.026798466220498085,\n",
       "  'The transformer is a deep learning architecture that was developed by researchers at Google and is based on the multi-head attention mechanism, which was proposed in the 2017 paper Attention Is All You Need.')]"
      ]
     },
     "execution_count": 12,
     "metadata": {},
     "output_type": "execute_result"
    }
   ],
   "source": [
    "sorted(zip(query_similarities.tolist()[0], sentences), reverse=True)"
   ]
  }
 ],
 "metadata": {
  "kernelspec": {
   "display_name": "Python 3 (ipykernel)",
   "language": "python",
   "name": "python3"
  },
  "language_info": {
   "codemirror_mode": {
    "name": "ipython",
    "version": 3
   },
   "file_extension": ".py",
   "mimetype": "text/x-python",
   "name": "python",
   "nbconvert_exporter": "python",
   "pygments_lexer": "ipython3",
   "version": "3.11.10"
  }
 },
 "nbformat": 4,
 "nbformat_minor": 5
}
