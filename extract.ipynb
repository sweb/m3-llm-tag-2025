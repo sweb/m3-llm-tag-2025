{
 "cells": [
  {
   "cell_type": "code",
   "execution_count": 1,
   "id": "c8ff91ce-04cd-4b57-8d1e-07450bdbd41a",
   "metadata": {},
   "outputs": [],
   "source": [
    "from docling.datamodel.base_models import InputFormat\n",
    "from docling.datamodel.pipeline_options import PdfPipelineOptions\n",
    "from docling.document_converter import DocumentConverter, PdfFormatOption\n",
    "from docling_core.types.doc import ImageRefMode\n",
    "from pathlib import Path\n",
    "import logging\n",
    "\n",
    "logger = logging.getLogger(__name__)\n",
    "logging.basicConfig(level=logging.INFO)"
   ]
  },
  {
   "cell_type": "code",
   "execution_count": 2,
   "id": "b70ecc6b-0ffd-476b-8f64-ad5b9674ed52",
   "metadata": {},
   "outputs": [],
   "source": [
    "input_doc_path = Path(\"PATH_TO_PDF_OR_PPTX\")\n",
    "output_dir = Path(\"./output\")"
   ]
  },
  {
   "cell_type": "code",
   "execution_count": 5,
   "id": "33cd8e06-0d9e-4a63-b0f7-a26496fbdc4d",
   "metadata": {},
   "outputs": [
    {
     "name": "stderr",
     "output_type": "stream",
     "text": [
      "INFO:docling.document_converter:Going to convert document batch...\n",
      "INFO:docling.pipeline.base_pipeline:Processing document extraction_pptx_sample.pptx\n",
      "INFO:docling.document_converter:Finished converting document extraction_pptx_sample.pptx in 0.04 sec.\n"
     ]
    }
   ],
   "source": [
    "pipeline_options = PdfPipelineOptions(do_ocr=False)\n",
    "pipeline_options.images_scale = 2.0\n",
    "pipeline_options.generate_page_images = False\n",
    "pipeline_options.generate_picture_images = True\n",
    "\n",
    "doc_converter = DocumentConverter(\n",
    "    allowed_formats=[InputFormat.PDF, InputFormat.PPTX],\n",
    "    format_options={\n",
    "        InputFormat.PDF: PdfFormatOption(pipeline_options=pipeline_options)\n",
    "    },\n",
    ")\n",
    "conv_res = doc_converter.convert(input_doc_path)\n",
    "output_dir.mkdir(parents=True, exist_ok=True)\n",
    "md_file = output_dir / \"output.md\"\n",
    "conv_res.document.save_as_markdown(\n",
    "    md_file,\n",
    "    image_mode=ImageRefMode.REFERENCED,\n",
    "    artifacts_dir=output_dir / \"media\",\n",
    ")"
   ]
  },
  {
   "cell_type": "code",
   "execution_count": null,
   "id": "dca7c6ea-ccd1-42aa-a499-8ab80604a98f",
   "metadata": {},
   "outputs": [],
   "source": []
  }
 ],
 "metadata": {
  "kernelspec": {
   "display_name": "Python 3 (ipykernel)",
   "language": "python",
   "name": "python3"
  },
  "language_info": {
   "codemirror_mode": {
    "name": "ipython",
    "version": 3
   },
   "file_extension": ".py",
   "mimetype": "text/x-python",
   "name": "python",
   "nbconvert_exporter": "python",
   "pygments_lexer": "ipython3",
   "version": "3.11.10"
  }
 },
 "nbformat": 4,
 "nbformat_minor": 5
}
